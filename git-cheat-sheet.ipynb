{
 "cells": [
  {
   "cell_type": "markdown",
   "id": "ffb73c7b",
   "metadata": {},
   "source": [
    "# Git Cheat Sheet\n",
    "This notebook explains essential Git commands with examples and comments."
   ]
  },
  {
   "cell_type": "markdown",
   "id": "b5431ab4",
   "metadata": {},
   "source": [
    "- Git is the free and open source distributed version control system that's responsible for everything GitHub\n",
    "related that happens locally on your computer. This cheat sheet features the most important and commonly\n",
    "used Git commands for easy reference."
   ]
  },
  {
   "cell_type": "markdown",
   "id": "fe1b35f4",
   "metadata": {},
   "source": [
    "- INSTALLATION & GUIS\n",
    "With platform specific installers for Git, GitHub also provides the\n",
    "ease of staying up-to-date with the latest releases of the command\n",
    "line tool while providing a graphical user interface for day-to-day\n",
    "interaction, review, and repository synchronization.\n",
    "\n",
    "- GitHub for Windows\n",
    "https://windows.github.com\n",
    "\n",
    "- GitHub for Mac\n",
    "https://mac.github.com\n",
    "\n",
    "For Linux and Solaris platforms, the latest release is available on\n",
    "the official Git web site.\n",
    "- Git for All Platforms\n",
    "http://git-scm.com"
   ]
  },
  {
   "cell_type": "markdown",
   "id": "b1763b65",
   "metadata": {},
   "source": [
    "## STAGE & SNAPSHOT\n",
    "Working with snapshots and the Git staging area"
   ]
  },
  {
   "cell_type": "markdown",
   "id": "3824a620",
   "metadata": {},
   "source": [
    "**Explanation:** Show modified files in working directory, staged for your next commit."
   ]
  },
  {
   "cell_type": "code",
   "execution_count": null,
   "id": "7ca41221",
   "metadata": {},
   "outputs": [],
   "source": [
    "# Show modified files in working directory, staged for your next commit.\n",
    "git status"
   ]
  },
  {
   "cell_type": "markdown",
   "id": "dc5760bc",
   "metadata": {},
   "source": [
    "**Explanation:** Add a file as it looks now to your next commit (stage)."
   ]
  },
  {
   "cell_type": "code",
   "execution_count": null,
   "id": "b88a5dab",
   "metadata": {},
   "outputs": [],
   "source": [
    "# Add a file as it looks now to your next commit (stage).\n",
    "git add [file]"
   ]
  },
  {
   "cell_type": "markdown",
   "id": "5f504b18",
   "metadata": {},
   "source": [
    "**Explanation:** Unstage a file while retaining the changes in working directory."
   ]
  },
  {
   "cell_type": "code",
   "execution_count": null,
   "id": "243be14c",
   "metadata": {},
   "outputs": [],
   "source": [
    "# Unstage a file while retaining the changes in working directory.\n",
    "git reset [file]"
   ]
  },
  {
   "cell_type": "markdown",
   "id": "f1a9c9ef",
   "metadata": {},
   "source": [
    "**Explanation:** Diff of what is changed but not staged."
   ]
  },
  {
   "cell_type": "code",
   "execution_count": null,
   "id": "a840f721",
   "metadata": {},
   "outputs": [],
   "source": [
    "# Diff of what is changed but not staged.\n",
    "git diff"
   ]
  },
  {
   "cell_type": "markdown",
   "id": "b0c9cc23",
   "metadata": {},
   "source": [
    "**Explanation:** Diff of what is staged but not yet committed."
   ]
  },
  {
   "cell_type": "code",
   "execution_count": null,
   "id": "b3eeab70",
   "metadata": {},
   "outputs": [],
   "source": [
    "# Diff of what is staged but not yet committed.\n",
    "git diff --staged"
   ]
  },
  {
   "cell_type": "markdown",
   "id": "d43aebca",
   "metadata": {},
   "source": [
    "**Explanation:** Commit your staged content as a new commit snapshot."
   ]
  },
  {
   "cell_type": "code",
   "execution_count": null,
   "id": "7db369a9",
   "metadata": {},
   "outputs": [],
   "source": [
    "# Commit your staged content as a new commit snapshot.\n",
    "git commit -m \"[descriptive message]\""
   ]
  },
  {
   "cell_type": "markdown",
   "id": "687442d4",
   "metadata": {},
   "source": [
    "## SETUP\n",
    "Configuring user information used across all local repositories"
   ]
  },
  {
   "cell_type": "markdown",
   "id": "153806d5",
   "metadata": {},
   "source": [
    "**Explanation:** Set a name that is identifiable for credit when reviewing version history."
   ]
  },
  {
   "cell_type": "code",
   "execution_count": null,
   "id": "562748d8",
   "metadata": {},
   "outputs": [],
   "source": [
    "# Set a name that is identifiable for credit when reviewing version history.\n",
    "git config --global user.name \"[firstname lastname]\""
   ]
  },
  {
   "cell_type": "markdown",
   "id": "9bd64702",
   "metadata": {},
   "source": [
    "**Explanation:** Set an email address that will be associated with each history marker."
   ]
  },
  {
   "cell_type": "code",
   "execution_count": null,
   "id": "27359867",
   "metadata": {},
   "outputs": [],
   "source": [
    "# Set an email address that will be associated with each history marker.\n",
    "git config --global user.email \"[valid-email]\""
   ]
  },
  {
   "cell_type": "markdown",
   "id": "66a7c083",
   "metadata": {},
   "source": [
    "**Explanation:** Set automatic command line coloring for Git for easy reviewing."
   ]
  },
  {
   "cell_type": "code",
   "execution_count": null,
   "id": "13e2995e",
   "metadata": {},
   "outputs": [],
   "source": [
    "# Set automatic command line coloring for Git for easy reviewing.\n",
    "git config --global color.ui auto"
   ]
  },
  {
   "cell_type": "markdown",
   "id": "c0ccf78e",
   "metadata": {},
   "source": [
    "## SETUP & INIT"
   ]
  },
  {
   "cell_type": "markdown",
   "id": "7597deb1",
   "metadata": {},
   "source": [
    "**Explanation:** Initialize an existing directory as a Git repository."
   ]
  },
  {
   "cell_type": "code",
   "execution_count": null,
   "id": "78cbaaee",
   "metadata": {},
   "outputs": [],
   "source": [
    "# Initialize an existing directory as a Git repository.\n",
    "git init"
   ]
  },
  {
   "cell_type": "markdown",
   "id": "dbeaee82",
   "metadata": {},
   "source": [
    "**Explanation:** Retrieve an entire repository from a hosted location via URL."
   ]
  },
  {
   "cell_type": "code",
   "execution_count": null,
   "id": "cb6259e3",
   "metadata": {},
   "outputs": [],
   "source": [
    "# Retrieve an entire repository from a hosted location via URL.\n",
    "git clone [url]"
   ]
  },
  {
   "cell_type": "markdown",
   "id": "a6079000",
   "metadata": {},
   "source": [
    "## BRANCH & MERGE\n",
    "Configuring user information, initializing and cloning repositories"
   ]
  },
  {
   "cell_type": "markdown",
   "id": "55a4d070",
   "metadata": {},
   "source": [
    "**Explanation:** List your branches. A * will appear next to the currently active branch."
   ]
  },
  {
   "cell_type": "code",
   "execution_count": null,
   "id": "55ed4410",
   "metadata": {},
   "outputs": [],
   "source": [
    "# List your branches. A * will appear next to the currently active branch.\n",
    "git branch"
   ]
  },
  {
   "cell_type": "markdown",
   "id": "3a7e960e",
   "metadata": {},
   "source": [
    "**Explanation:** Create a new branch at the current commit."
   ]
  },
  {
   "cell_type": "code",
   "execution_count": null,
   "id": "1915183a",
   "metadata": {},
   "outputs": [],
   "source": [
    "# Create a new branch at the current commit.\n",
    "git branch [branch-name]"
   ]
  },
  {
   "cell_type": "markdown",
   "id": "9f13d843",
   "metadata": {},
   "source": [
    "**Explanation:** Switch to another branch and check it out into your working directory."
   ]
  },
  {
   "cell_type": "code",
   "execution_count": null,
   "id": "56919eb7",
   "metadata": {},
   "outputs": [],
   "source": [
    "# Switch to another branch and check it out into your working directory.\n",
    "git checkout [branch]"
   ]
  },
  {
   "cell_type": "markdown",
   "id": "0d9447b4",
   "metadata": {},
   "source": [
    "**Explanation:** Merge the specified branch’s history into the current one."
   ]
  },
  {
   "cell_type": "code",
   "execution_count": null,
   "id": "91e198c7",
   "metadata": {},
   "outputs": [],
   "source": [
    "# Merge the specified branch’s history into the current one.\n",
    "git merge [branch]"
   ]
  },
  {
   "cell_type": "markdown",
   "id": "6959c6d5",
   "metadata": {},
   "source": [
    "**Explanation:** Show all commits in the current branch’s history."
   ]
  },
  {
   "cell_type": "code",
   "execution_count": null,
   "id": "2c64f44c",
   "metadata": {},
   "outputs": [],
   "source": [
    "# Show all commits in the current branch’s history.\n",
    "git log"
   ]
  },
  {
   "cell_type": "markdown",
   "id": "0317ad5f",
   "metadata": {},
   "source": [
    "## SHARE & UPDATE\n",
    "Retrieving updates from another repository and updating local repos"
   ]
  },
  {
   "cell_type": "markdown",
   "id": "4ce95a75",
   "metadata": {},
   "source": [
    "**Explanation:** Add a git URL as an alias."
   ]
  },
  {
   "cell_type": "code",
   "execution_count": null,
   "id": "459a874d",
   "metadata": {},
   "outputs": [],
   "source": [
    "# Add a git URL as an alias.\n",
    "git remote add [alias] [url]"
   ]
  },
  {
   "cell_type": "markdown",
   "id": "c7865009",
   "metadata": {},
   "source": [
    "**Explanation:** Fetch down all the branches from that Git remote."
   ]
  },
  {
   "cell_type": "code",
   "execution_count": null,
   "id": "b6b7f6f6",
   "metadata": {},
   "outputs": [],
   "source": [
    "# Fetch down all the branches from that Git remote.\n",
    "git fetch [alias]"
   ]
  },
  {
   "cell_type": "markdown",
   "id": "2ccddddd",
   "metadata": {},
   "source": [
    "**Explanation:** Merge a remote branch into your current branch to bring it up to date."
   ]
  },
  {
   "cell_type": "code",
   "execution_count": null,
   "id": "dde1fb23",
   "metadata": {},
   "outputs": [],
   "source": [
    "# Merge a remote branch into your current branch to bring it up to date.\n",
    "git merge [alias]/[branch]"
   ]
  },
  {
   "cell_type": "markdown",
   "id": "3cbc33eb",
   "metadata": {},
   "source": [
    "**Explanation:** Transmit local branch commits to the remote repository branch."
   ]
  },
  {
   "cell_type": "code",
   "execution_count": null,
   "id": "284d7ff1",
   "metadata": {},
   "outputs": [],
   "source": [
    "# Transmit local branch commits to the remote repository branch.\n",
    "git push [alias] [branch]"
   ]
  },
  {
   "cell_type": "markdown",
   "id": "8b0b3c51",
   "metadata": {},
   "source": [
    "**Explanation:** Fetch and merge any commits from the tracking remote branch."
   ]
  },
  {
   "cell_type": "code",
   "execution_count": null,
   "id": "1173e24b",
   "metadata": {},
   "outputs": [],
   "source": [
    "# Fetch and merge any commits from the tracking remote branch.\n",
    "git pull"
   ]
  },
  {
   "cell_type": "markdown",
   "id": "0157b9e1",
   "metadata": {},
   "source": [
    "## TRACKING PATH CHANGES\n",
    "Versioning file removes and path changes"
   ]
  },
  {
   "cell_type": "markdown",
   "id": "79f8a967",
   "metadata": {},
   "source": [
    "**Explanation:** Delete the file from project and stage the removal for commit."
   ]
  },
  {
   "cell_type": "code",
   "execution_count": null,
   "id": "ebf26eff",
   "metadata": {},
   "outputs": [],
   "source": [
    "# Delete the file from project and stage the removal for commit.\n",
    "git rm [file]"
   ]
  },
  {
   "cell_type": "markdown",
   "id": "0e79d01d",
   "metadata": {},
   "source": [
    "**Explanation:** Change an existing file path and stage the move."
   ]
  },
  {
   "cell_type": "code",
   "execution_count": null,
   "id": "6262bbe5",
   "metadata": {},
   "outputs": [],
   "source": [
    "# Change an existing file path and stage the move.\n",
    "git mv [existing-path] [new-path]"
   ]
  },
  {
   "cell_type": "markdown",
   "id": "2f787a21",
   "metadata": {},
   "source": [
    "**Explanation:** Show all commit logs with indication of any paths that moved."
   ]
  },
  {
   "cell_type": "code",
   "execution_count": null,
   "id": "ee8b2d21",
   "metadata": {},
   "outputs": [],
   "source": [
    "# Show all commit logs with indication of any paths that moved.\n",
    "git log --stat -M"
   ]
  },
  {
   "cell_type": "markdown",
   "id": "72c1aacf",
   "metadata": {},
   "source": [
    "## TEMPORARY COMMITS\n",
    "Temporarily store modified, tracked files in order to change branches"
   ]
  },
  {
   "cell_type": "markdown",
   "id": "b8f4b28b",
   "metadata": {},
   "source": [
    "**Explanation:** Save modified and staged changes."
   ]
  },
  {
   "cell_type": "code",
   "execution_count": null,
   "id": "104c67ee",
   "metadata": {},
   "outputs": [],
   "source": [
    "# Save modified and staged changes.\n",
    "git stash"
   ]
  },
  {
   "cell_type": "markdown",
   "id": "dc30409f",
   "metadata": {},
   "source": [
    "**Explanation:** List stack-order of stashed file changes."
   ]
  },
  {
   "cell_type": "code",
   "execution_count": null,
   "id": "ec211f66",
   "metadata": {},
   "outputs": [],
   "source": [
    "# List stack-order of stashed file changes.\n",
    "git stash list"
   ]
  },
  {
   "cell_type": "markdown",
   "id": "677b3568",
   "metadata": {},
   "source": [
    "**Explanation:** Write working from top of stash stack."
   ]
  },
  {
   "cell_type": "code",
   "execution_count": null,
   "id": "71ba7fd8",
   "metadata": {},
   "outputs": [],
   "source": [
    "# Write working from top of stash stack.\n",
    "git stash pop"
   ]
  },
  {
   "cell_type": "markdown",
   "id": "b0f80204",
   "metadata": {},
   "source": [
    "**Explanation:** Discard the changes from top of stash stack."
   ]
  },
  {
   "cell_type": "code",
   "execution_count": null,
   "id": "8a1be4fb",
   "metadata": {},
   "outputs": [],
   "source": [
    "# Discard the changes from top of stash stack.\n",
    "git stash drop"
   ]
  },
  {
   "cell_type": "markdown",
   "id": "3344838c",
   "metadata": {},
   "source": [
    "## REWRITE HISTORY\n",
    "Rewriting branches, updating commits and clearing history"
   ]
  },
  {
   "cell_type": "markdown",
   "id": "c8659c76",
   "metadata": {},
   "source": [
    "**Explanation:** Apply any commits of current branch ahead of specified one."
   ]
  },
  {
   "cell_type": "code",
   "execution_count": null,
   "id": "b5b5a6e9",
   "metadata": {},
   "outputs": [],
   "source": [
    "# Apply any commits of current branch ahead of specified one.\n",
    "git rebase [branch]"
   ]
  },
  {
   "cell_type": "markdown",
   "id": "a8780838",
   "metadata": {},
   "source": [
    "**Explanation:** Clear staging area, rewrite working tree from specified commit."
   ]
  },
  {
   "cell_type": "code",
   "execution_count": null,
   "id": "e68e76de",
   "metadata": {},
   "outputs": [],
   "source": [
    "# Clear staging area, rewrite working tree from specified commit.\n",
    "git reset --hard [commit]"
   ]
  },
  {
   "cell_type": "markdown",
   "id": "86a874aa",
   "metadata": {},
   "source": [
    "## INSPECT & COMPARE\n",
    "Examining logs, diffs and object information"
   ]
  },
  {
   "cell_type": "markdown",
   "id": "952ae8bc",
   "metadata": {},
   "source": [
    "**Explanation:** Show the commit history for the currently active branch."
   ]
  },
  {
   "cell_type": "code",
   "execution_count": null,
   "id": "4606a076",
   "metadata": {},
   "outputs": [],
   "source": [
    "# Show the commit history for the currently active branch.\n",
    "git log"
   ]
  },
  {
   "cell_type": "markdown",
   "id": "930486ee",
   "metadata": {},
   "source": [
    "**Explanation:** Show the commits on branchA that are not on branchB."
   ]
  },
  {
   "cell_type": "code",
   "execution_count": null,
   "id": "380b2f3c",
   "metadata": {},
   "outputs": [],
   "source": [
    "# Show the commits on branchA that are not on branchB.\n",
    "git log branchB..branchA"
   ]
  },
  {
   "cell_type": "markdown",
   "id": "d2b68511",
   "metadata": {},
   "source": [
    "**Explanation:** Show the commits that changed file, even across renames."
   ]
  },
  {
   "cell_type": "code",
   "execution_count": null,
   "id": "ba6f9e4f",
   "metadata": {},
   "outputs": [],
   "source": [
    "# Show the commits that changed file, even across renames.\n",
    "git log --follow [file]"
   ]
  },
  {
   "cell_type": "markdown",
   "id": "c9e58a4a",
   "metadata": {},
   "source": [
    "**Explanation:** Show the diff of what is in branchA that is not in branchB."
   ]
  },
  {
   "cell_type": "code",
   "execution_count": 2,
   "id": "9206e31b",
   "metadata": {},
   "outputs": [
    {
     "ename": "SyntaxError",
     "evalue": "invalid syntax (2137783067.py, line 2)",
     "output_type": "error",
     "traceback": [
      "\u001b[1;36m  File \u001b[1;32m\"C:\\Users\\kulde\\AppData\\Local\\Temp\\ipykernel_5668\\2137783067.py\"\u001b[1;36m, line \u001b[1;32m2\u001b[0m\n\u001b[1;33m    git diff branchB...branchA\u001b[0m\n\u001b[1;37m        ^\u001b[0m\n\u001b[1;31mSyntaxError\u001b[0m\u001b[1;31m:\u001b[0m invalid syntax\n"
     ]
    }
   ],
   "source": [
    "# Show the diff of what is in branchA that is not in branchB.\n",
    "git diff branchB...branchA"
   ]
  },
  {
   "cell_type": "markdown",
   "id": "467298fd",
   "metadata": {},
   "source": [
    "**Explanation:** Show any object in Git in human-readable format."
   ]
  },
  {
   "cell_type": "code",
   "execution_count": null,
   "id": "ad307e00",
   "metadata": {},
   "outputs": [],
   "source": [
    "# Show any object in Git in human-readable format.\n",
    "git show [SHA]"
   ]
  },
  {
   "cell_type": "markdown",
   "id": "66ddf21f",
   "metadata": {},
   "source": [
    "## IGNORING PATTERNS\n",
    "Preventing unintentional staging or commiting of files"
   ]
  },
  {
   "cell_type": "markdown",
   "id": "c9547644",
   "metadata": {},
   "source": [
    "**Explanation:** System wide ignore pattern for all local repositories."
   ]
  },
  {
   "cell_type": "code",
   "execution_count": null,
   "id": "f64cd323",
   "metadata": {},
   "outputs": [],
   "source": [
    "# System wide ignore pattern for all local repositories.\n",
    "git config --global core.excludesfile [file]"
   ]
  },
  {
   "cell_type": "markdown",
   "id": "ae938325",
   "metadata": {},
   "source": [
    "**Explanation:** Below is a sample .gitignore file:"
   ]
  },
  {
   "cell_type": "code",
   "execution_count": null,
   "id": "1316668b",
   "metadata": {},
   "outputs": [],
   "source": [
    "# Below is a sample .gitignore file:\n",
    "# Example .gitignore"
   ]
  },
  {
   "cell_type": "markdown",
   "id": "20afdc9b",
   "metadata": {},
   "source": [
    "**Explanation:** Patterns to ignore."
   ]
  },
  {
   "cell_type": "code",
   "execution_count": null,
   "id": "17464429",
   "metadata": {},
   "outputs": [],
   "source": [
    "# Patterns to ignore.\n",
    "logs/\n",
    "*.notes\n",
    "pattern*/"
   ]
  }
 ],
 "metadata": {
  "kernelspec": {
   "display_name": "Python 3 (ipykernel)",
   "language": "python",
   "name": "python3"
  },
  "language_info": {
   "codemirror_mode": {
    "name": "ipython",
    "version": 3
   },
   "file_extension": ".py",
   "mimetype": "text/x-python",
   "name": "python",
   "nbconvert_exporter": "python",
   "pygments_lexer": "ipython3",
   "version": "3.9.13"
  }
 },
 "nbformat": 4,
 "nbformat_minor": 5
}
